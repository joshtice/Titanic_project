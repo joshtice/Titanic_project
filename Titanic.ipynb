{
 "cells": [
  {
   "cell_type": "markdown",
   "metadata": {},
   "source": [
    "# Project: Investigate a Dataset\n",
    "\n",
    "## Introduction\n",
    "\n",
    "This project is submitted as a partial requirement for Udacity's Data Analyst Nanodegree program. The objective was to complete a cursory data analysis on a curated data set using NumPy and Pandas. For the project, I chose to investigate the 'Titanic' data set, which includes demographic and passenger information from approximately 40% of the passenger and crew of the ship's infamous last voyage. At the outset of the project, the first question I asked was _\"What features can be used to predict the individuals that were more likely to survive?\"_ Realizing that the question was fairly broad, I started by investigating the individual features in the dataset as a means to refine my question. More granular questions follow in the next section.\n",
    "\n",
    "## Getting acquainted with the 'Titanic' Data Set\n",
    "\n",
    "To begin investigating the 'Titanic' data set, I loaded the requisite python libraries, including NumPy and Pandas."
   ]
  },
  {
   "cell_type": "code",
   "execution_count": 1,
   "metadata": {
    "collapsed": true
   },
   "outputs": [],
   "source": [
    "# -*- coding: utf-8 -*-\n",
    "\n",
    "from collections import defaultdict\n",
    "from __future__ import division\n",
    "import matplotlib.pyplot as plt\n",
    "import numpy as np\n",
    "import os\n",
    "import pandas as pd\n",
    "import pprint\n",
    "import re\n",
    "from scipy.stats import chi2_contingency\n",
    "from scipy.stats.distributions import norm\n",
    "import seaborn as sns\n",
    "\n",
    "%matplotlib inline"
   ]
  },
  {
   "cell_type": "markdown",
   "metadata": {},
   "source": [
    "I loaded the data file, 'titanic-data.csv', into a data frame with Pandas. Then, I looked at the dimensions of the data frame, the names of the features, and the number of missing values. For the features that were numerical, I performed a summary."
   ]
  },
  {
   "cell_type": "code",
   "execution_count": 2,
   "metadata": {
    "collapsed": false
   },
   "outputs": [
    {
     "name": "stdout",
     "output_type": "stream",
     "text": [
      "The data frame has 891 rows (datapoints) and 12 columns (features).\n",
      "Feature | Number of missing values\n",
      "PassengerId | 0\n",
      "Survived | 0\n",
      "Pclass | 0\n",
      "Name | 0\n",
      "Sex | 0\n",
      "Age | 177\n",
      "SibSp | 0\n",
      "Parch | 0\n",
      "Ticket | 0\n",
      "Fare | 0\n",
      "Cabin | 687\n",
      "Embarked | 2\n"
     ]
    },
    {
     "data": {
      "text/html": [
       "<div>\n",
       "<table border=\"1\" class=\"dataframe\">\n",
       "  <thead>\n",
       "    <tr style=\"text-align: right;\">\n",
       "      <th></th>\n",
       "      <th>PassengerId</th>\n",
       "      <th>Survived</th>\n",
       "      <th>Pclass</th>\n",
       "      <th>Age</th>\n",
       "      <th>SibSp</th>\n",
       "      <th>Parch</th>\n",
       "      <th>Fare</th>\n",
       "    </tr>\n",
       "  </thead>\n",
       "  <tbody>\n",
       "    <tr>\n",
       "      <th>count</th>\n",
       "      <td>891.000000</td>\n",
       "      <td>891.000000</td>\n",
       "      <td>891.000000</td>\n",
       "      <td>714.000000</td>\n",
       "      <td>891.000000</td>\n",
       "      <td>891.000000</td>\n",
       "      <td>891.000000</td>\n",
       "    </tr>\n",
       "    <tr>\n",
       "      <th>mean</th>\n",
       "      <td>446.000000</td>\n",
       "      <td>0.383838</td>\n",
       "      <td>2.308642</td>\n",
       "      <td>29.699118</td>\n",
       "      <td>0.523008</td>\n",
       "      <td>0.381594</td>\n",
       "      <td>32.204208</td>\n",
       "    </tr>\n",
       "    <tr>\n",
       "      <th>std</th>\n",
       "      <td>257.353842</td>\n",
       "      <td>0.486592</td>\n",
       "      <td>0.836071</td>\n",
       "      <td>14.526497</td>\n",
       "      <td>1.102743</td>\n",
       "      <td>0.806057</td>\n",
       "      <td>49.693429</td>\n",
       "    </tr>\n",
       "    <tr>\n",
       "      <th>min</th>\n",
       "      <td>1.000000</td>\n",
       "      <td>0.000000</td>\n",
       "      <td>1.000000</td>\n",
       "      <td>0.420000</td>\n",
       "      <td>0.000000</td>\n",
       "      <td>0.000000</td>\n",
       "      <td>0.000000</td>\n",
       "    </tr>\n",
       "    <tr>\n",
       "      <th>25%</th>\n",
       "      <td>223.500000</td>\n",
       "      <td>0.000000</td>\n",
       "      <td>2.000000</td>\n",
       "      <td>20.125000</td>\n",
       "      <td>0.000000</td>\n",
       "      <td>0.000000</td>\n",
       "      <td>7.910400</td>\n",
       "    </tr>\n",
       "    <tr>\n",
       "      <th>50%</th>\n",
       "      <td>446.000000</td>\n",
       "      <td>0.000000</td>\n",
       "      <td>3.000000</td>\n",
       "      <td>28.000000</td>\n",
       "      <td>0.000000</td>\n",
       "      <td>0.000000</td>\n",
       "      <td>14.454200</td>\n",
       "    </tr>\n",
       "    <tr>\n",
       "      <th>75%</th>\n",
       "      <td>668.500000</td>\n",
       "      <td>1.000000</td>\n",
       "      <td>3.000000</td>\n",
       "      <td>38.000000</td>\n",
       "      <td>1.000000</td>\n",
       "      <td>0.000000</td>\n",
       "      <td>31.000000</td>\n",
       "    </tr>\n",
       "    <tr>\n",
       "      <th>max</th>\n",
       "      <td>891.000000</td>\n",
       "      <td>1.000000</td>\n",
       "      <td>3.000000</td>\n",
       "      <td>80.000000</td>\n",
       "      <td>8.000000</td>\n",
       "      <td>6.000000</td>\n",
       "      <td>512.329200</td>\n",
       "    </tr>\n",
       "  </tbody>\n",
       "</table>\n",
       "</div>"
      ],
      "text/plain": [
       "       PassengerId    Survived      Pclass         Age       SibSp  \\\n",
       "count   891.000000  891.000000  891.000000  714.000000  891.000000   \n",
       "mean    446.000000    0.383838    2.308642   29.699118    0.523008   \n",
       "std     257.353842    0.486592    0.836071   14.526497    1.102743   \n",
       "min       1.000000    0.000000    1.000000    0.420000    0.000000   \n",
       "25%     223.500000    0.000000    2.000000   20.125000    0.000000   \n",
       "50%     446.000000    0.000000    3.000000   28.000000    0.000000   \n",
       "75%     668.500000    1.000000    3.000000   38.000000    1.000000   \n",
       "max     891.000000    1.000000    3.000000   80.000000    8.000000   \n",
       "\n",
       "            Parch        Fare  \n",
       "count  891.000000  891.000000  \n",
       "mean     0.381594   32.204208  \n",
       "std      0.806057   49.693429  \n",
       "min      0.000000    0.000000  \n",
       "25%      0.000000    7.910400  \n",
       "50%      0.000000   14.454200  \n",
       "75%      0.000000   31.000000  \n",
       "max      6.000000  512.329200  "
      ]
     },
     "execution_count": 2,
     "metadata": {},
     "output_type": "execute_result"
    }
   ],
   "source": [
    "df = pd.read_csv('titanic-data.csv')\n",
    "print('The data frame has {} rows (datapoints) and {} columns (features).'.format(df.shape[0], df.shape[1]))\n",
    "print('Feature | Number of missing values')\n",
    "for c in df.columns:\n",
    "    print('{} | {}'.format(df[c].name, sum(df[c].isnull())))\n",
    "df.describe()"
   ]
  },
  {
   "cell_type": "markdown",
   "metadata": {},
   "source": [
    "Based on the summary, I found that the overall survival rate of the sample was 38%. To make the column names easier to work with, I changed the names to 'snake' form."
   ]
  },
  {
   "cell_type": "code",
   "execution_count": 3,
   "metadata": {
    "collapsed": false
   },
   "outputs": [
    {
     "name": "stdout",
     "output_type": "stream",
     "text": [
      "Index([u'passenger_id', u'survived', u'p_class', u'name', u'sex', u'age',\n",
      "       u'sib_sp', u'par_ch', u'ticket', u'fare', u'cabin', u'embarked'],\n",
      "      dtype='object')\n"
     ]
    }
   ],
   "source": [
    "df.rename(columns={'PassengerId': 'passenger_id', \n",
    "                   'Pclass': 'p_class', \n",
    "                   'Survived': 'survived', \n",
    "                   'Name': 'name',\n",
    "                   'Sex': 'sex', \n",
    "                   'Age': 'age', \n",
    "                   'SibSp': 'sib_sp', \n",
    "                   'Parch': 'par_ch', \n",
    "                   'Ticket': 'ticket',\n",
    "                   'Fare': 'fare', \n",
    "                   'Cabin': 'cabin',\n",
    "                   'Embarked': 'embarked'},\n",
    "          inplace=True)\n",
    "print(df.columns)"
   ]
  },
  {
   "cell_type": "markdown",
   "metadata": {},
   "source": [
    "Having inspected the available features in the dataset, I started to ask more granular questions related to survival. For instance:  \n",
    "* Did passengers with higher social status have a better chance of surviving?\n",
    "* Did children have a greater chance of surviving than adults?\n",
    "* Did the number of people in a person's family influence her chances of survival?\n",
    "* Did people on lower decks have a lower chance of surviving?\n",
    "\n",
    "I also had some other questions simply based on curiosity, such as:  \n",
    "* Can I extract any intersting information from the passengers' names?\n",
    "* Who paid the most to travel on this voyage? Did he/she survive?"
   ]
  },
  {
   "cell_type": "markdown",
   "metadata": {},
   "source": [
    "## Modified Features\n",
    "\n",
    "I needed to transform some of the data to be more useful to my analysis. For example, I combined the features representing immediate family ('sib_sp': siblings/spouse, and 'par_ch': parents/childen) into one feature called 'family_size' (using vector addition available with the Pandas package and with its underlying Numpy capabilities)."
   ]
  },
  {
   "cell_type": "code",
   "execution_count": 4,
   "metadata": {
    "collapsed": false
   },
   "outputs": [
    {
     "data": {
      "text/plain": [
       "count    891.000000\n",
       "mean       1.904602\n",
       "std        1.613459\n",
       "min        1.000000\n",
       "25%        1.000000\n",
       "50%        1.000000\n",
       "75%        2.000000\n",
       "max       11.000000\n",
       "Name: family_size, dtype: float64"
      ]
     },
     "execution_count": 4,
     "metadata": {},
     "output_type": "execute_result"
    }
   ],
   "source": [
    "# Calculate size of families on the Titanic. Add 1 to include the individual.\n",
    "df['family_size'] = 1 + df.sib_sp + df.par_ch\n",
    "\n",
    "df.family_size.describe()"
   ]
  },
  {
   "cell_type": "markdown",
   "metadata": {},
   "source": [
    "The deck level was embedded in the room number, as seen by inspecting some values from that column. (Knowing that some values were missing for this features, I removed them with the 'dropna' method):"
   ]
  },
  {
   "cell_type": "code",
   "execution_count": 5,
   "metadata": {
    "collapsed": false
   },
   "outputs": [
    {
     "data": {
      "text/plain": [
       "1             C85\n",
       "3            C123\n",
       "6             E46\n",
       "10             G6\n",
       "11           C103\n",
       "21            D56\n",
       "23             A6\n",
       "27    C23 C25 C27\n",
       "31            B78\n",
       "52            D33\n",
       "Name: cabin, dtype: object"
      ]
     },
     "execution_count": 5,
     "metadata": {},
     "output_type": "execute_result"
    }
   ],
   "source": [
    "df.cabin.dropna().head(10)"
   ]
  },
  {
   "cell_type": "markdown",
   "metadata": {},
   "source": [
    "To extract the deck level, I used a regular expression to identify letters at the beginning of room numbers. For entries that contained multiple room numbers, I utilized the first listed room number. This simplification seemed justified, since a cursory inspection revealed that most entries with multiple room numbers had rooms clustered on the same deck. I also ordered the decks with 'A' being the top deck of the ship and 'G' being the lowest."
   ]
  },
  {
   "cell_type": "code",
   "execution_count": 6,
   "metadata": {
    "collapsed": false
   },
   "outputs": [
    {
     "data": {
      "text/plain": [
       "[C, E, G, D, A, B, F]\n",
       "Categories (7, object): [A < B < C < D < E < F < G]"
      ]
     },
     "execution_count": 6,
     "metadata": {},
     "output_type": "execute_result"
    }
   ],
   "source": [
    "# Extract the deck value from the cabin value and create a separate column\n",
    "deck_re = re.compile(r'[A-G]\\d+')\n",
    "# Knowing that some values are missing from the 'cabin' features, start by initiating 'cabin_deck' with nan\n",
    "df['cabin_deck'] = np.nan\n",
    "df['cabin_deck'] = df['cabin_deck'].astype('category', categories=['A', 'B', 'C', 'D', 'E', 'F', 'G'], ordered=True)\n",
    "for i, cabin in df['cabin'].iteritems():\n",
    "    if deck_re.search(str(cabin)):\n",
    "        deck = deck_re.search(cabin).group()[0]\n",
    "        df.loc[i, 'cabin_deck'] = deck\n",
    "    else:\n",
    "        continue\n",
    "        \n",
    "df.cabin_deck.dropna().unique()"
   ]
  },
  {
   "cell_type": "markdown",
   "metadata": {},
   "source": [
    "Finally, I noticed that most of the passengers were assigned a title (_e.g._, Mr., Mrs., _etc._). Also, the titles were always abbreviated and followed by a period. Using the presence of the period as an indicator, I extracted the titles from the passenger name and used them to create a new column. Out of curiousity, I printed all the unique values for title."
   ]
  },
  {
   "cell_type": "code",
   "execution_count": 7,
   "metadata": {
    "collapsed": false
   },
   "outputs": [
    {
     "name": "stdout",
     "output_type": "stream",
     "text": [
      "['Mr.' 'Mrs.' 'Miss.' 'Master.' 'Don.' 'Rev.' 'Dr.' 'Mme.' 'Ms.' 'Major.'\n",
      " 'Lady.' 'Sir.' 'Mlle.' 'Col.' 'Capt.' 'Countess.' 'Jonkheer.']\n"
     ]
    }
   ],
   "source": [
    "# Identify an individual's title and create a separate column\n",
    "title_re = re.compile(r'\\w+\\.') \n",
    "df['title'] = np.nan\n",
    "for i, name in df['name'].iteritems():\n",
    "    if title_re.search(name):\n",
    "        title = title_re.search(name).group()\n",
    "        df.loc[i, 'title'] = title\n",
    "    else:\n",
    "        continue\n",
    "\n",
    "print(df.title.unique())"
   ]
  },
  {
   "cell_type": "markdown",
   "metadata": {},
   "source": [
    "I was unfamiliar with several of the titles. After researching their meanings, I found that they were all non-english titles:    \n",
    "[Don.](https://en.wikipedia.org/wiki/Don): A spanish honorific title, roughly equivalent to 'Lord'.    \n",
    "[Mlle.](https://mail.google.com/mail/u/0/?zx=do2a3rl6j9qu#inbox): A french honorific for 'Mademoiselle', a traditional alternative for an unmarried woman.  \n",
    "[Jonkheer](https://en.wikipedia.org/wiki/Jonkheer): A dutch honorific of nobility.  "
   ]
  },
  {
   "cell_type": "markdown",
   "metadata": {},
   "source": [
    "## Features predicting survival  \n",
    "### Categorical features\n",
    "\n",
    "To begin investigating features that could be used to predict survival, I started by plotting the survival ratio versus the categorical features in the data (omitting missing values with a parameter in the method call)."
   ]
  },
  {
   "cell_type": "code",
   "execution_count": 8,
   "metadata": {
    "collapsed": false
   },
   "outputs": [
    {
     "data": {
      "text/plain": [
       "<matplotlib.text.Text at 0x117099350>"
      ]
     },
     "execution_count": 8,
     "metadata": {},
     "output_type": "execute_result"
    },
    {
     "data": {
      "image/png": "[encoded data removed]",
      "text/plain": [
       "<matplotlib.figure.Figure at 0x116f8ff90>"
      ]
     },
     "metadata": {},
     "output_type": "display_data"
    }
   ],
   "source": [
    "g = sns.PairGrid(data=df, x_vars=['sex', 'p_class', 'cabin_deck', 'embarked'], y_vars='survived', size=3, dropna=True)\n",
    "g.map(sns.barplot, ci=None, alpha = 0.5)\n",
    "plt.suptitle('Survival Rate vs. Categorical Features', fontsize=14, fontweight='bold')\n",
    "g.axes[0,0].xaxis.set_label_text('Sex')\n",
    "g.axes[0,1].xaxis.set_label_text('Passenger class')\n",
    "g.axes[0,2].xaxis.set_label_text('Cabin deck')\n",
    "g.axes[0,3].xaxis.set_label_text('Port of embarkment')\n",
    "g.axes[0,0].yaxis.set_label_text('Survival rate')"
   ]
  },
  {
   "cell_type": "markdown",
   "metadata": {},
   "source": [
    "In my initial estimation, I did not think that sex would be as drastic a predictor for survival. However, sex seemed to be perhaps the most drastic differentiator, with less than 20% of males in the sample surviving and over 70% of females surviving in the sample.  Since sex only had two levels, the feature conveniently lended itself to an inferential statistical test. Using a [two-proportion comparative test](https://onlinecourses.science.psu.edu/stat200/node/61), I started by defining the following hypotheses:  \n",
    "\n",
    "$H_0$: The proportion of females that survived equals the proportion of males that survived, $\\hat{p}_{female}=\\hat{p}_{male}$  \n",
    "$H_a$: The proportion of females that survived does not equal the proportion of males that survived, $\\hat{p}_{female}\\neq\\hat{p}_{male}$  \n",
    "\n",
    "The test statistic for two independent variables was then defined as follows. (The test assumes that more than 5 observations, $n$, are made for each variable, and the distribution of each approaches the normal distribution.)  \n",
    "\n",
    "$$z = \\frac{(\\hat{p}_{female}-\\hat{p}_{male})-0}{S.E.}$$  \n",
    "\n",
    "where  \n",
    "\n",
    "$$ S.E. = \\sqrt{\\frac{\\hat{p}_{female}(1-\\hat{p}_{female})}{n_{female}}+\\frac{\\hat{p}_{male}(1-\\hat{p}_{male})}{n_{male}}}$$\n",
    "\n",
    "I then wrote a python function, two_proportion_test, to calculate the test statistic and corresponding p-value for the test:"
   ]
  },
  {
   "cell_type": "code",
   "execution_count": 9,
   "metadata": {
    "collapsed": false
   },
   "outputs": [],
   "source": [
    "def two_proportion_test(y1, n1, y2, n2, alt='two-sided'):\n",
    "    \"\"\"Generate a z test statistic and p-value for a hypothesis test for two proportions from the same population.\n",
    "    H0: y1/n1 = y2/n2\n",
    "    Ha: y1/n1 != y2/n2\n",
    "    \n",
    "    Parameters\n",
    "    ----------\n",
    "        y1 : int\n",
    "            The number of 'positive' outcomes in the first proportion.\n",
    "            \n",
    "        n1 : int\n",
    "            The number of samples taken for the first proportion.\n",
    "            \n",
    "        y2 : int\n",
    "            The number of 'positive' outcomes in the second proportion.\n",
    "            \n",
    "        n2 : int\n",
    "            The number of samples taken for the second proportion.\n",
    "            \n",
    "        alt : str {'two-sided', 'one-sided'}\n",
    "            An indicator for the alternative hypothesis. Defaults to 'two-sided'\n",
    "            \n",
    "    Returns\n",
    "    -------\n",
    "    z_stat : float\n",
    "        The z statistic for the hypothesis test. \n",
    "        \n",
    "    p_value : float\n",
    "        The p value for the hypothesis test.\n",
    "    \"\"\"\n",
    "    p1 = y1/n1\n",
    "    p2 = y2/n2\n",
    "    se = np.sqrt(p1*(1 - p1)/n1 + p2*(1 - p2)/n2)\n",
    "    z_stat = (p1 - p2)/se\n",
    "    if alt == 'two-sided':\n",
    "        if z_stat > 0:\n",
    "            p_value = (1 - norm.cdf(z_stat))*2\n",
    "        else:\n",
    "            p_value = (1 - norm.cdf(-z_stat))*2\n",
    "    elif alt == 'one-sided':\n",
    "        if z_stat > 0:\n",
    "            p_value = (1 - norm.cdf(z_stat))\n",
    "        else:\n",
    "            p_value = (1 - norm.cdf(-z_stat))\n",
    "    else:\n",
    "        raise ValueError(\"Parameter 'alt' from function 'two_proportion_test' takes only the values\\\n",
    "                         'one-sided' or 'two-sided'.\")\n",
    "    return (z_stat, p_value)        "
   ]
  },
  {
   "cell_type": "markdown",
   "metadata": {},
   "source": [
    "I then proceeded to calculate $\\hat{p}_{female}$, $n_{female}$, $\\hat{p}_{male}$, and $n_{male}$, followed by the test statistic and associated p-value:"
   ]
  },
  {
   "cell_type": "code",
   "execution_count": 10,
   "metadata": {
    "collapsed": false
   },
   "outputs": [
    {
     "name": "stdout",
     "output_type": "stream",
     "text": [
      "Total females in sample: 314\n",
      "Survived females in sample: 233\n",
      "Total males in sample: 577\n",
      "Survived males in sample: 109\n",
      "Test statistic: 18.7\n",
      "p-value: 0.000\n"
     ]
    }
   ],
   "source": [
    "females = df[df['sex'] == 'female']\n",
    "total_females = len(females)\n",
    "females_survived = sum(females.survived)\n",
    "males = df[df['sex'] == 'male']\n",
    "total_males = len(males)\n",
    "males_survived = sum(males.survived)\n",
    "print('Total females in sample: %d' % total_females)\n",
    "print('Survived females in sample: %d' % females_survived)\n",
    "print('Total males in sample: %d' % total_males)\n",
    "print('Survived males in sample: %d' % males_survived)\n",
    "\n",
    "z_stat, p_value = two_proportion_test(y1=females_survived, \n",
    "                                   n1=total_females, \n",
    "                                   y2=males_survived, \n",
    "                                   n2=total_males)\n",
    "\n",
    "print('Test statistic: {:.1f}'.format(z_stat))\n",
    "print('p-value: {:.3f}'.format(p_value))"
   ]
  },
  {
   "cell_type": "markdown",
   "metadata": {},
   "source": [
    "From the statistical test, I was able to conclude that the probabilty of the null hypothesis being true was insignificant with an $\\alpha$-level of 0.001. \n",
    "\n",
    "Another inferencial test that I used to probe the reliance of survival rate on sex was the Chi-Square test of independence. In this case, I defined my hypotheses as follows:  \n",
    "\n",
    "$H_0$: In the population, the categorical variables of 'sex' and 'survived' are independent.  \n",
    "$H_a$: In the population, the categorical variables of 'sex' and 'survived' are dependent.\n",
    "\n",
    "Using the frequencies calculated above, I set up a contingency table...\n",
    "\n",
    "|Sex / Survived?|Yes  |No   |Totals|\n",
    "|:--------------|:---:|:---:|:----:|\n",
    "|Female         |233  |81   |314   |\n",
    "|Male           |109  |468  |577   |\n",
    "|**Totals**     |342  |549  |891   |\n",
    "\n",
    "...and then using the chi2_contingency function from scipy.stats, I computed the test statistic and p-value:"
   ]
  },
  {
   "cell_type": "code",
   "execution_count": 11,
   "metadata": {
    "collapsed": false
   },
   "outputs": [
    {
     "name": "stdout",
     "output_type": "stream",
     "text": [
      "Test statistic: 260.7\n",
      "p-value: 0.000\n"
     ]
    }
   ],
   "source": [
    "contingency_table = np.array([[233, 81], \n",
    "                              [109, 468]])\n",
    "chi2_stat, p_value, _, _ = chi2_contingency(contingency_table)\n",
    "\n",
    "print('Test statistic: {:.1f}'.format(chi2_stat))\n",
    "print('p-value: {:.3f}'.format(p_value))"
   ]
  },
  {
   "cell_type": "markdown",
   "metadata": {},
   "source": [
    "Again, I reject the null hypothesis in favor of the alternate, meaning that sex and survival were not independent.\n",
    "\n",
    "Although both the tests above show that sex was a strong predictor of survival in the population, they do not prove causality. For instance, cultural values (such as prioritizing the life of women and children over that of men) could have been the causal agent rather than an individual's biology.\n",
    "\n",
    "Looking at the remaining categorical features in the dataset, I thought that two other observations were interesting. First, the survival rate decreased with lower passenger classes. In this case, I did not do a statistical test to show that the trend could be generalized to the population. Again, the trend in survival rate with passenger class does not prove causality, but I would _hypothesize_ that passenger class could be used to approximate social class, and higher social classes were likely given priority to access the Titanic's life boats.\n",
    "\n",
    "Second, the survival rate of passengers on the lowest deck of the Titanic appeared to be much lower than other decks, and the survival rate on other decks appeared to be more or less similar. The survival rate of passengers lodged on deck A could also be considered relatively low, but deck A was the top deck, and had a [much lower count of passenger rooms than other decks](https://www.encyclopedia-titanica.org/titanic-deckplans/a-deck.html), and was likely different from other decks in other ways as well. The deck variable  appeared to correlate with passenger class (as demonstrated in the following barplot). Consequently, my earlier hypothesis - that passengers on lower decks would have a harder time accessing the top deck and the lifeboats - would have to be treated more rigorously to tease apart the effects from features related to social status."
   ]
  },
  {
   "cell_type": "code",
   "execution_count": 12,
   "metadata": {
    "collapsed": false
   },
   "outputs": [
    {
     "data": {
      "text/plain": [
       "<matplotlib.text.Text at 0x11a6edf90>"
      ]
     },
     "execution_count": 12,
     "metadata": {},
     "output_type": "execute_result"
    },
    {
     "data": {
      "image/png": "[encoded data removed]",
      "text/plain": [
       "<matplotlib.figure.Figure at 0x116fc2650>"
      ]
     },
     "metadata": {},
     "output_type": "display_data"
    }
   ],
   "source": [
    "# Knowing that missing values exist for 'cabin_deck', omit those values with the dropna method\n",
    "sns.barplot(x='cabin_deck', y='survived', data=df.dropna(), ci=None, hue='p_class', alpha=0.5)\n",
    "plt.title('Average Survival Rate vs. Deck', fontsize=14, fontweight='bold')\n",
    "plt.xlabel('Deck')\n",
    "plt.ylabel('Average survival rate')"
   ]
  },
  {
   "cell_type": "markdown",
   "metadata": {},
   "source": [
    "### Continuous features  \n",
    "\n",
    "After looking at the categorical features, I moved on to visualizing the continuous features in the dataset. I started with the variable 'fare', which I anticipated could also be used to approximate social class. First, I plotted a histogram to look at the distribution of values, then I plotted the survival rate versus fare, binning fares together in increments of 5£:"
   ]
  },
  {
   "cell_type": "code",
   "execution_count": 13,
   "metadata": {
    "collapsed": false
   },
   "outputs": [
    {
     "data": {
      "text/plain": [
       "<matplotlib.legend.Legend at 0x1171afa10>"
      ]
     },
     "execution_count": 13,
     "metadata": {},
     "output_type": "execute_result"
    },
    {
     "data": {
      "image/png": "[encoded data removed]",
      "text/plain": [
       "<matplotlib.figure.Figure at 0x10d47f890>"
      ]
     },
     "metadata": {},
     "output_type": "display_data"
    }
   ],
   "source": [
    "sns.distplot(df.fare.dropna().loc[df.survived == 0], bins=range(0, 550, 5))\n",
    "sns.distplot(df.fare.dropna().loc[df.survived == 1], bins=range(0, 550, 5))\n",
    "plt.title('Distribution of Fare', fontsize=14, fontweight='bold')\n",
    "plt.xlabel('Fare (pounds)')\n",
    "plt.ylabel('Normalized frequency')\n",
    "plt.legend(['Did not survive', 'Survived'])"
   ]
  },
  {
   "cell_type": "code",
   "execution_count": 14,
   "metadata": {
    "collapsed": false
   },
   "outputs": [
    {
     "data": {
      "text/plain": [
       "<matplotlib.text.Text at 0x11ac3f650>"
      ]
     },
     "execution_count": 14,
     "metadata": {},
     "output_type": "execute_result"
    },
    {
     "data": {
      "image/png": "[encoded data removed]",
      "text/plain": [
       "<matplotlib.figure.Figure at 0x11a984c90>"
      ]
     },
     "metadata": {},
     "output_type": "display_data"
    }
   ],
   "source": [
    "sns.regplot(x='fare', y='survived', data=df, x_bins=range(0, 550, 5), fit_reg=False, ci=False, y_jitter=0.01)\n",
    "plt.title('Survival Rate vs. Fare', fontsize=14, fontweight='bold')\n",
    "plt.xlabel('Fare (pounds)')\n",
    "plt.ylabel('Binned survival rate')"
   ]
  },
  {
   "cell_type": "markdown",
   "metadata": {},
   "source": [
    "Qualitatively, it appears that passengers that paid more were more likely to survive. I was interested to see who was the outlier that paid over £500 for the fare. "
   ]
  },
  {
   "cell_type": "code",
   "execution_count": 15,
   "metadata": {
    "collapsed": false
   },
   "outputs": [
    {
     "name": "stdout",
     "output_type": "stream",
     "text": [
      "     passenger_id  survived  p_class                                name  \\\n",
      "258           259         1        1                    Ward, Miss. Anna   \n",
      "679           680         1        1  Cardeza, Mr. Thomas Drake Martinez   \n",
      "737           738         1        1              Lesurer, Mr. Gustave J   \n",
      "\n",
      "        sex   age  sib_sp  par_ch    ticket      fare        cabin embarked  \\\n",
      "258  female  35.0       0       0  PC 17755  512.3292          NaN        C   \n",
      "679    male  36.0       0       1  PC 17755  512.3292  B51 B53 B55        C   \n",
      "737    male  35.0       0       0  PC 17755  512.3292         B101        C   \n",
      "\n",
      "     family_size cabin_deck  title  \n",
      "258            1        NaN  Miss.  \n",
      "679            2          B    Mr.  \n",
      "737            1          B    Mr.  \n"
     ]
    }
   ],
   "source": [
    "print(df[df.fare > 500])"
   ]
  },
  {
   "cell_type": "markdown",
   "metadata": {},
   "source": [
    "From [encyclopedia-titanica.org](www.encyclopedia-titanica.org), I found that Mr. Thomas Cardeza, his mother Charlotte Cardeza, his manservant Mr. Gustave Lesurer, and his mother's maidservant Miss. Anna Ward, were all traveling together. The were returning to the U.S. from an African safari. This information brought up a contradiction to my earlier assumption. While all these individuals had a high fare associated with their data, they were not all from high social classes. Mr. Lesurer and Miss. Ward were both servants traveling under the same ticket as their employer, Mr. Cardeza. The fare likely corresponds to the price that Mr. Cardeza paid for the ticket, and not to any money that the servants paid.\n",
    "\n",
    "Despite the nuances with the relationship of fare and social class, I continued the analysis concerning fare and survival. Seeing that the distribution was highly right-skewed, I wanted to avoid being misled by extreme values. I re-plotted the data with the lower 95% of the data. "
   ]
  },
  {
   "cell_type": "code",
   "execution_count": 16,
   "metadata": {
    "collapsed": false
   },
   "outputs": [
    {
     "name": "stdout",
     "output_type": "stream",
     "text": [
      "95th-percentile: 112.08\n"
     ]
    }
   ],
   "source": [
    "print('95th-percentile: {:0.2f}'.format(df.fare.quantile(0.95)))"
   ]
  },
  {
   "cell_type": "code",
   "execution_count": 17,
   "metadata": {
    "collapsed": false
   },
   "outputs": [
    {
     "data": {
      "text/plain": [
       "<matplotlib.legend.Legend at 0x11b1371d0>"
      ]
     },
     "execution_count": 17,
     "metadata": {},
     "output_type": "execute_result"
    },
    {
     "data": {
      "image/png": "[encoded data removed]",
      "text/plain": [
       "<matplotlib.figure.Figure at 0x11a7b3950>"
      ]
     },
     "metadata": {},
     "output_type": "display_data"
    }
   ],
   "source": [
    "sns.distplot(df.fare.dropna().loc[df.survived == 0], bins=range(0, 115, 5))\n",
    "sns.distplot(df.fare.dropna().loc[df.survived == 1], bins=range(0, 115, 5))\n",
    "plt.xlim(0, 115)\n",
    "plt.title('Distribution of Fare', fontsize=14, fontweight='bold')\n",
    "plt.xlabel('Fare (pounds)')\n",
    "plt.ylabel('Normalized frequency')\n",
    "plt.legend(['Did not survive', 'Survived'])"
   ]
  },
  {
   "cell_type": "code",
   "execution_count": 18,
   "metadata": {
    "collapsed": false
   },
   "outputs": [
    {
     "data": {
      "text/plain": [
       "<matplotlib.text.Text at 0x11b36d190>"
      ]
     },
     "execution_count": 18,
     "metadata": {},
     "output_type": "execute_result"
    },
    {
     "data": {
      "image/png": "[encoded data removed]",
      "text/plain": [
       "<matplotlib.figure.Figure at 0x116fc2ed0>"
      ]
     },
     "metadata": {},
     "output_type": "display_data"
    }
   ],
   "source": [
    "sns.regplot(x='fare', y='survived', data=df[df.fare <= 112], x_bins=range(0, 115, 5), ci=False)\n",
    "plt.title('Survival Rate vs. Fare', fontsize=14, fontweight='bold')\n",
    "plt.xlabel('Fare (pounds)')\n",
    "plt.ylabel('Binned survival rate')"
   ]
  },
  {
   "cell_type": "markdown",
   "metadata": {},
   "source": [
    "The trend of higher survival rates with fare appeared to hold. As part of a exploratory data analysis, fare seems to be a promising predictor for survival. Note, however, that the visualization does not prove a statistical correlation between survival rate and fare. Additionally, as noted above, fare can mis-characterize social class. \n",
    "\n",
    "I next investigated whether family size showed a qualitative correlation with survival rate. I performed the same visualizations as above, plotting the distribution of family size as well as the relationship between the variable and survival rate:"
   ]
  },
  {
   "cell_type": "code",
   "execution_count": 19,
   "metadata": {
    "collapsed": false
   },
   "outputs": [
    {
     "data": {
      "text/plain": [
       "<matplotlib.legend.Legend at 0x11b4ceed0>"
      ]
     },
     "execution_count": 19,
     "metadata": {},
     "output_type": "execute_result"
    },
    {
     "data": {
      "image/png": "[encoded data removed]",
      "text/plain": [
       "<matplotlib.figure.Figure at 0x11b40c810>"
      ]
     },
     "metadata": {},
     "output_type": "display_data"
    }
   ],
   "source": [
    "sns.distplot(df.family_size[df.survived == 0], bins=range(1, 12, 1), kde=False)\n",
    "sns.distplot(df.family_size[df.survived == 1], bins=range(1, 12, 1), kde=False)\n",
    "plt.title('Distribution of Family Size', fontsize=14, fontweight='bold')\n",
    "plt.xlabel('Family size')\n",
    "plt.ylabel('Frequency')\n",
    "plt.legend(['Did not survive', 'Survived'])"
   ]
  },
  {
   "cell_type": "code",
   "execution_count": 20,
   "metadata": {
    "collapsed": false
   },
   "outputs": [
    {
     "data": {
      "text/plain": [
       "<matplotlib.text.Text at 0x11b718490>"
      ]
     },
     "execution_count": 20,
     "metadata": {},
     "output_type": "execute_result"
    },
    {
     "data": {
      "image/png": "[encoded data removed]",
      "text/plain": [
       "<matplotlib.figure.Figure at 0x11b44d550>"
      ]
     },
     "metadata": {},
     "output_type": "display_data"
    }
   ],
   "source": [
    "sns.regplot(x='family_size', y='survived', data=df, x_bins=range(0, 12, 1), fit_reg=False, ci=False)\n",
    "plt.title('Survival Rate vs. Family Size', fontsize=14, fontweight='bold')\n",
    "plt.xlabel('Family size')\n",
    "plt.ylabel('Binned survival rate')"
   ]
  },
  {
   "cell_type": "markdown",
   "metadata": {},
   "source": [
    "The relationsip between family size and survival appears to be non-linear. Individuals that were traveling by themselves as well as people with large families had survival rates below the overall mean. As with the previous feature, the distribution is right-skewed, necessitating a statistical approach to show how strong the predictor is.\n",
    "\n",
    "Finally, I investigated the effect of age on survial (using the dropna method to eliminate missing values from the graphs):"
   ]
  },
  {
   "cell_type": "code",
   "execution_count": 21,
   "metadata": {
    "collapsed": false
   },
   "outputs": [
    {
     "data": {
      "text/plain": [
       "<matplotlib.legend.Legend at 0x11b992d10>"
      ]
     },
     "execution_count": 21,
     "metadata": {},
     "output_type": "execute_result"
    },
    {
     "data": {
      "image/png": "[encoded data removed]",
      "text/plain": [
       "<matplotlib.figure.Figure at 0x11a7971d0>"
      ]
     },
     "metadata": {},
     "output_type": "display_data"
    }
   ],
   "source": [
    "sns.distplot(df.age.dropna()[df.survived == 0], bins=range(0, 80, 5))\n",
    "sns.distplot(df.age.dropna()[df.survived == 1], bins=range(0, 80, 5))\n",
    "plt.title('Distribution of Age', fontsize=14, fontweight='bold')\n",
    "plt.xlabel('Age (years)')\n",
    "plt.ylabel('Normalized frequency')\n",
    "plt.legend(['Did not survive', 'Survived'])"
   ]
  },
  {
   "cell_type": "code",
   "execution_count": 22,
   "metadata": {
    "collapsed": false
   },
   "outputs": [
    {
     "data": {
      "text/plain": [
       "<matplotlib.text.Text at 0x11b9df850>"
      ]
     },
     "execution_count": 22,
     "metadata": {},
     "output_type": "execute_result"
    },
    {
     "data": {
      "image/png": "[encoded data removed]",
      "text/plain": [
       "<matplotlib.figure.Figure at 0x11b84ab50>"
      ]
     },
     "metadata": {},
     "output_type": "display_data"
    }
   ],
   "source": [
    "g = sns.regplot(x='age', y='survived', data=df, x_bins=range(0, 100, 5), fit_reg=False, ci=False)\n",
    "plt.title('Survival Rate vs. Age', fontsize=14, fontweight='bold')\n",
    "plt.xlabel('Age (years)')\n",
    "plt.ylabel('Binned survival rate')"
   ]
  },
  {
   "cell_type": "markdown",
   "metadata": {},
   "source": [
    "Based on the way I binned the data in the scatter plot, a negative correlation appears to be present (discounting the outlier at age 80). However, I noticed that 50% of the data lies between the ages of 20 and 38 (based on the summary statistics performed at the beginning of the report), and the survival rate in this range of ages is close to the grand mean. Once again, a more rigorous statistical test would be needed to show the strength of age as a predictor of survival.\n",
    "\n",
    "One of my questions was whether children had a greater chance of surviving as compared to adults. I (somewhat arbitrarilty) defined a cut-off between children and adults at 15 years of age. I omitted individuals who had no reported age. Then, I used the two-proportion test I coded earlier to calculate a test-statistic for significance:"
   ]
  },
  {
   "cell_type": "code",
   "execution_count": 23,
   "metadata": {
    "collapsed": false
   },
   "outputs": [
    {
     "name": "stdout",
     "output_type": "stream",
     "text": [
      "Number of children (age <= 15):\t\t83\n",
      "Number of children who survived:\t49\n",
      "Ratio of children who survived: \t0.59\n",
      "Number of adults (age > 15):\t\t631\n",
      "Number of adults who survived:\t\t241\n",
      "Ratio of adults who survived:\t\t0.38\n",
      "Test statistic: 3.6\n",
      "p-value: 0.000\n"
     ]
    }
   ],
   "source": [
    "total_children = sum(df.age <= 15)\n",
    "children_survived = sum((df.age <= 15) & (df.survived == 1))\n",
    "total_adults = sum(df.age > 15)\n",
    "adults_survived = sum((df.age > 15) & (df.survived == 1))\n",
    "print('Number of children (age <= 15):\\t\\t{}'.format(total_children))\n",
    "print('Number of children who survived:\\t{}'.format(children_survived))\n",
    "print('Ratio of children who survived: \\t{:0.2f}'.format(children_survived/total_children))\n",
    "print('Number of adults (age > 15):\\t\\t{}'.format(total_adults))\n",
    "print('Number of adults who survived:\\t\\t{}'.format(adults_survived))\n",
    "print('Ratio of adults who survived:\\t\\t{:0.2f}'.format(adults_survived/total_adults))\n",
    "\n",
    "z_stat, p_value = two_proportion_test(y1=children_survived, \n",
    "                                   n1=total_children, \n",
    "                                   y2=adults_survived,\n",
    "                                   n2=total_adults)\n",
    "print('Test statistic: {:.1f}'.format(z_stat))\n",
    "print('p-value: {:.3f}'.format(p_value))"
   ]
  },
  {
   "cell_type": "markdown",
   "metadata": {},
   "source": [
    "Based on the test, I reject the null hypothesis that the proportion of survived children is the same as the proportion of survived adults. \n",
    "\n",
    "I also tested the inference based on the Chi-Square test of independence. My hypotheses were as follows:  \n",
    "\n",
    "$H_0$: In the population, the categorical variables of 'age' and 'survived' are independent.  \n",
    "$H_a$: In the population, the categorical variables of 'age' and 'survived' are dependent.\n",
    "\n",
    "I set up a contingency table...\n",
    "\n",
    "|Age / Survived?|Yes  |No   |Totals|\n",
    "|:--------------|:---:|:---:|:----:|\n",
    "|Child          |49   |34   |83    |\n",
    "|Adult          |241  |390  |631   |\n",
    "|**Totals**     |290  |424  |714   |\n",
    "\n",
    "...and then using the chi2_contingency function from scipy.stats, I computed the test statistic and p-value:"
   ]
  },
  {
   "cell_type": "code",
   "execution_count": 24,
   "metadata": {
    "collapsed": false
   },
   "outputs": [
    {
     "name": "stdout",
     "output_type": "stream",
     "text": [
      "Test statistic: 12.4\n",
      "p-value: 0.000\n"
     ]
    }
   ],
   "source": [
    "contingency_table = np.array([[49, 34], \n",
    "                              [241, 390]])\n",
    "chi2_stat, p_value, _, _ = chi2_contingency(contingency_table)\n",
    "\n",
    "print('Test statistic: {:.1f}'.format(chi2_stat))\n",
    "print('p-value: {:.3f}'.format(p_value))"
   ]
  },
  {
   "cell_type": "markdown",
   "metadata": {},
   "source": [
    "The Chi-Square test of independence also led me to reject the null hypothesis."
   ]
  },
  {
   "cell_type": "markdown",
   "metadata": {
    "collapsed": true
   },
   "source": [
    "## Conclusion\n",
    "\n",
    "In this exploratory data analysis of the Titanic data set, I identified several qualitative correlations between passenger features and passenger survival. Some of the findings were used to draw inferences about the entire population of passengers on the Titanic's last voyage. Running an experiment to rigorously prove causality for survival, however, is pragmatically impossible. Some other limitations should be kept in mind:  \n",
    "* Only ~40% of the passengers on the final voyage of the Titanic were present in the dataset. The sampling methodology should be investigated before confidently drawing inferences on the whole population.  \n",
    "* Certain information was unknown that could have significantly altered the survival likelihood of individual passengers. (For instance, if a passenger had a health condition).  \n",
    "* Values were missing for certain data points in the dataset, specifically for the features of 'age', 'cabin', and 'embarked'. \n",
    "\n",
    "Below is a summary of my conclusions based simply on my perceptions of the exploratory analysis and some inferential statistics: \n",
    "\n",
    "**1) Did passengers with higher social status have a better chance of surviving?**  \n",
    "   Using passenger class (p_class) and fare as constructs for social status, individuals with higher social status qualitatively seemed to have a higher chance of survival. \n",
    "\n",
    "**2) Did children have a greater chance of surviving than adults?**  \n",
    "   Defining children as individuals less than or equal to 15 years of age, a statistical test showed that the rate of survival in children was not the same as the rate of survival in adults. \n",
    "   \n",
    "**3) Did the number of people in a person's family influence her chances of survival?**  \n",
    "   No definite correlation could be ascertained from plotting the data.\n",
    "   \n",
    "**4) Did people on lower decks have a lower chance of surviving?**  \n",
    "   By inspection, people on deck G, the lowest deck, seemed to have a lower chance of surviving. However, I noted that location of an individual's room correlated with passenger class, leading to some uncertainty behind the real story (_e.g._, was it social status or simply difficulty in getting to the lifeboats that influenced survival most?)\n",
    "\n",
    "**5) Can I extract any interesting information from the passengers' names?**  \n",
    "   The variety of titles listed in the passengers' names revealed honorifics from other countries that I was unaware of.\n",
    "\n",
    "**6) Who paid the most to travel on this voyage? Did he/she survive?**  \n",
    "   Mr. Thomas Cardeza and his entourage paid the most to travel on the Titanic's last voyage: £512 each. The entire group survived.\n",
    "   \n",
    "**7) What features can be used to predict the individuals that were more likely to survive?**  \n",
    "   With the present analysis, the sex of a passenger and his status as a child or adult appear to be strong predictors for survival.\n",
    "   "
   ]
  },
  {
   "cell_type": "code",
   "execution_count": null,
   "metadata": {
    "collapsed": true
   },
   "outputs": [],
   "source": []
  }
 ],
 "metadata": {
  "kernelspec": {
   "display_name": "Python [conda root]",
   "language": "python",
   "name": "conda-root-py"
  },
  "language_info": {
   "codemirror_mode": {
    "name": "ipython",
    "version": 2
   },
   "file_extension": ".py",
   "mimetype": "text/x-python",
   "name": "python",
   "nbconvert_exporter": "python",
   "pygments_lexer": "ipython2",
   "version": "2.7.13"
  }
 },
 "nbformat": 4,
 "nbformat_minor": 2
}
